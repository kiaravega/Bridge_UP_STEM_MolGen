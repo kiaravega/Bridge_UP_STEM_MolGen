{
 "cells": [
  {
   "cell_type": "markdown",
   "metadata": {},
   "source": [
    "# Week 1, Session 2: Biopython! \n",
    "### like Python, but biology \n",
    "<img src=\"bio_logo.png\" width=\"240\" height=\"240\" align=\"left\"/>."
   ]
  },
  {
   "cell_type": "markdown",
   "metadata": {},
   "source": [
    "By now you've used a number of different Python packages -- matplotlib, numpy, pandas. Today, we'll be adding a new tool to your toolbox: __Biopython__! \n",
    "\n",
    "Open Terminal. In your command line, type the following command to install Biopython in Jupyter:"
   ]
  },
  {
   "cell_type": "markdown",
   "metadata": {},
   "source": [
    "`conda install -c anaconda biopython=1.72`"
   ]
  },
  {
   "cell_type": "markdown",
   "metadata": {},
   "source": [
    "Now, run the following cell (what does this do?): "
   ]
  },
  {
   "cell_type": "code",
   "execution_count": 1,
   "metadata": {},
   "outputs": [
    {
     "name": "stdout",
     "output_type": "stream",
     "text": [
      "1.73\n"
     ]
    }
   ],
   "source": [
    "import Bio \n",
    "print(Bio.__version__)\n",
    "import numpy as np"
   ]
  },
  {
   "cell_type": "markdown",
   "metadata": {},
   "source": [
    "Before we take a look at Biopython -- do you remember your transcription and translation functions from your molecular genomics module? Do you think you could write them below without referencing your old notebook? "
   ]
  },
  {
   "cell_type": "code",
   "execution_count": 2,
   "metadata": {},
   "outputs": [],
   "source": [
    "## your transcription function here\n",
    "\n"
   ]
  },
  {
   "cell_type": "code",
   "execution_count": 3,
   "metadata": {},
   "outputs": [],
   "source": [
    "RNA_codon_table = {\n",
    "# U\n",
    "'UUU': 'F', 'UCU': 'S', 'UAU': 'Y', 'UGU': 'C', # UxU\n",
    "'UUC': 'F', 'UCC': 'S', 'UAC': 'Y', 'UGC': 'C', # UxC\n",
    "'UUA': 'L', 'UCA': 'S', 'UAA': '---', 'UGA': '---', # UxA\n",
    "'UUG': 'L', 'UCG': 'S', 'UAG': '---', 'UGG': 'W', # UxG\n",
    "\n",
    "# C\n",
    "'CUU': 'L', 'CCU': 'P', 'CAU': 'H', 'CGU': 'R', # CxU\n",
    "'CUC': 'L', 'CCC': 'P', 'CAC': 'H', 'CGC': 'R', # CxC\n",
    "'CUA': 'L', 'CCA': 'P', 'CAA': 'Q', 'CGA': 'R', # CxA\n",
    "'CUG': 'L', 'CCG': 'P', 'CAG': 'Q', 'CGG': 'R', # CxG\n",
    "\n",
    "# A\n",
    "'AUU': 'I', 'ACU': 'T', 'AAU': 'N', 'AGU': 'S', # AxU\n",
    "'AUC': 'I', 'ACC': 'T', 'AAC': 'N', 'AGC': 'S', # AxC\n",
    "'AUA': 'I', 'ACA': 'T', 'AAA': 'K', 'AGA': 'R', # AxA\n",
    "'AUG': 'M', 'ACG': 'T', 'AAG': 'K', 'AGG': 'R', # AxG\n",
    "\n",
    "# G\n",
    "'GUU': 'V', 'GCU': 'A', 'GAU': 'D', 'GGU': 'G', # GxU\n",
    "'GUC': 'V', 'GCC': 'A', 'GAC': 'D', 'GGC': 'G', # GxC\n",
    "'GUA': 'V', 'GCA': 'A', 'GAA': 'E', 'GGA': 'G', # GxA\n",
    "'GUG': 'V', 'GCG': 'A', 'GAG': 'E', 'GGG': 'G'  # GxG\n",
    "}\n",
    "\n",
    "\n",
    "## your translation function here\n",
    "\n"
   ]
  },
  {
   "cell_type": "markdown",
   "metadata": {},
   "source": [
    "Biopython has lots of functions that are tailored to bioinformatic analysis -- functions like the ones you wrote above are built-in! We'll explore some Biopython functions for sequence and FASTA file manipulation today. "
   ]
  },
  {
   "cell_type": "markdown",
   "metadata": {},
   "source": [
    "### Sequences in Biopython\n",
    "\n",
    "Before we get started, run the following cell:"
   ]
  },
  {
   "cell_type": "code",
   "execution_count": 4,
   "metadata": {},
   "outputs": [],
   "source": [
    "from Bio.Seq import Seq"
   ]
  },
  {
   "cell_type": "markdown",
   "metadata": {},
   "source": [
    "In the following cell, define a my_seq variable with a nucleotide sequence of your choice. "
   ]
  },
  {
   "cell_type": "code",
   "execution_count": 5,
   "metadata": {},
   "outputs": [],
   "source": [
    "my_seq = Seq('#your sequence here!')"
   ]
  },
  {
   "cell_type": "markdown",
   "metadata": {},
   "source": [
    "`my_seq` is a __sequence object__, something unique to this package. Remember that it's not a string -- it's better! There are tons of cool properties unique to a sequence object. Try the following commands with your `my_seq` object (use the new cell below this one!):\n",
    "\n",
    "* complement()\n",
    "* reverse_complement()\n",
    "* alphabet  # note that there are no parens after this command!\n",
    "* find()  # type a substring that you know you've got in `my_seq`\n",
    "* count()\n",
    "* transcribe()\n",
    "* translate()\n"
   ]
  },
  {
   "cell_type": "code",
   "execution_count": 6,
   "metadata": {},
   "outputs": [],
   "source": [
    "# your my_seq sandbox!\n",
    "#save the commands you type here -- you might want to reference them for syntax at a later date!\n",
    "\n",
    "\n"
   ]
  },
  {
   "cell_type": "markdown",
   "metadata": {},
   "source": [
    "### the FASTA file format\n",
    "\n",
    "FASTA stands for fast-A (I know, I was disappointed, too) because it works for *all* alphabets. There are also FAST-P (for proteins) and FAST-N (for nucleotides) file formats. You might've already seen these files in your molecular genomics unit. If not, here's a refresher:"
   ]
  },
  {
   "cell_type": "markdown",
   "metadata": {},
   "source": [
    "#### a sample FASTA file entry: \n",
    "\n",
    "\\> NC_000933.1:2331-3119 Metridium senile mitochondrion, complete genome\n",
    "ATGAAATCTACTGTTTATCATCCCTATCATTTAGTAGACCCCAGCCCTTGGCCCTACGTAGGAGCTTGCGGAGCTCTTTTTATAACTGTAGGAAGTGTCGTATATTTTCATTATAGTCAAACTTGAGTTTTATTGATGGGGGCTATTACCCTTAGTTTAACTATGATAGTTTGGTGGAGAGATGTAATAAGAGAAGCTACTTTCCAAGGTCTTCATACCATGGTTGTAAAACAAGGTTTAAAATATGGAATGCTCCTATTTATCCTTTCTGAAGTC..."
   ]
  },
  {
   "cell_type": "markdown",
   "metadata": {},
   "source": [
    "\n",
    "The first line of any entry is descriptive and should be human-readable. In the above, we're looking at part of a gene from the mitogenome of *Metridium senile*, a sea anemone. \"NC_000933.1\" is the accession number in [GenBank](https://www.ncbi.nlm.nih.gov/nuccore/6137781/) for this anemone, and 2331-3119 are the base pairs over which this gene is defined. "
   ]
  },
  {
   "cell_type": "markdown",
   "metadata": {},
   "source": [
    "Now, let's try some Biopython commands for handling FASTA files. Run the cell below:"
   ]
  },
  {
   "cell_type": "code",
   "execution_count": 7,
   "metadata": {},
   "outputs": [],
   "source": [
    "from Bio import SeqIO"
   ]
  },
  {
   "cell_type": "markdown",
   "metadata": {},
   "source": [
    "#### reading files \n",
    "\n",
    "What if I want to read the first record in my file? The last sequence? The first five? All of them? "
   ]
  },
  {
   "cell_type": "code",
   "execution_count": 8,
   "metadata": {},
   "outputs": [],
   "source": [
    "seqs = []\n",
    "for seq_record in list(SeqIO.parse('hemoglobin_sequences.fasta', 'fasta'))[:]:\n",
    "    seqs.append(seq_record.seq)"
   ]
  },
  {
   "cell_type": "code",
   "execution_count": 9,
   "metadata": {},
   "outputs": [],
   "source": [
    "array = np.zeros([13,13])\n",
    "def addham(seqs):\n",
    "    for c, i in enumerate(seqs):\n",
    "        for d, j in enumerate(seqs):\n",
    "            diff = diffnum(i,j)\n",
    "            array[c,d] = diff\n",
    "            return array"
   ]
  },
  {
   "cell_type": "markdown",
   "metadata": {},
   "source": [
    "Note that the `seq_record` object includes everything in a single entry -- the descriptor as well as the sequence itself. To access the descriptor, use `seq_record.id`. To access the sequence itself, use `seq_record.seq`.\n",
    "\n",
    "Let's combine the commands we've just seen. How would you print the transcriptions and translations of each sequence in bathypathes.fas? What must be true in order for your translation to work? "
   ]
  },
  {
   "cell_type": "code",
   "execution_count": 10,
   "metadata": {},
   "outputs": [
    {
     "ename": "IndentationError",
     "evalue": "expected an indented block (<ipython-input-10-2c17a895358e>, line 4)",
     "output_type": "error",
     "traceback": [
      "\u001b[0;36m  File \u001b[0;32m\"<ipython-input-10-2c17a895358e>\"\u001b[0;36m, line \u001b[0;32m4\u001b[0m\n\u001b[0;31m    for i in seqs\u001b[0m\n\u001b[0m      ^\u001b[0m\n\u001b[0;31mIndentationError\u001b[0m\u001b[0;31m:\u001b[0m expected an indented block\n"
     ]
    }
   ],
   "source": [
    "\n",
    "for seq_record in list(SeqIO.parse('bathypathes.fas', 'fasta'))[:]:\n",
    "    ## your code here!\n",
    "for i in seqs "
   ]
  },
  {
   "cell_type": "markdown",
   "metadata": {},
   "source": [
    "How would I fetch the description of the fifth sequence? "
   ]
  },
  {
   "cell_type": "code",
   "execution_count": null,
   "metadata": {},
   "outputs": [],
   "source": [
    "## your code here!\n",
    "def diffnum(seq1, seq2):\n",
    "    numberofdif = 0\n",
    "    if len(seq1)<= len(seq2):\n",
    "        shorter = seq1\n",
    "        longer = seq2\n",
    "        else:\n",
    "            shorter = seq2\n",
    "            longer = seq1\n",
    "            for c, i in enumerate(shorter):\n",
    "                if c < len(shorter):\n",
    "                    if i != longer[c]:\n",
    "                        numberofdif += 1\n",
    "                else:\n",
    "                        break\n",
    "                    return numberofdif"
   ]
  },
  {
   "cell_type": "markdown",
   "metadata": {},
   "source": [
    "How would I fetch the first three nucleotides of the fifth sequence? "
   ]
  },
  {
   "cell_type": "code",
   "execution_count": null,
   "metadata": {},
   "outputs": [],
   "source": [
    "## your code here!\n",
    "dns = np.savetxt(\"diffnumfseqs.txt\",array, fmt = '%.1f') \n"
   ]
  },
  {
   "cell_type": "code",
   "execution_count": null,
   "metadata": {},
   "outputs": [],
   "source": []
  },
  {
   "cell_type": "code",
   "execution_count": null,
   "metadata": {},
   "outputs": [],
   "source": []
  },
  {
   "cell_type": "markdown",
   "metadata": {},
   "source": [
    "__Challenge__ (to do if you complete everything else!): write a Python function that determines how many sequences in your FASTA file start with 'ATG'. "
   ]
  },
  {
   "cell_type": "code",
   "execution_count": null,
   "metadata": {},
   "outputs": [],
   "source": [
    "## your code here!\n",
    "\n"
   ]
  }
 ],
 "metadata": {
  "kernelspec": {
   "display_name": "Python 3",
   "language": "python",
   "name": "python3"
  },
  "language_info": {
   "codemirror_mode": {
    "name": "ipython",
    "version": 3
   },
   "file_extension": ".py",
   "mimetype": "text/x-python",
   "name": "python",
   "nbconvert_exporter": "python",
   "pygments_lexer": "ipython3",
   "version": "3.7.3"
  }
 },
 "nbformat": 4,
 "nbformat_minor": 2
}
